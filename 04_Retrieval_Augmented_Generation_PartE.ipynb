{
 "cells": [
  {
   "cell_type": "markdown",
   "id": "1d9bc6fb-b2da-405b-a7cc-562e7df6725c",
   "metadata": {},
   "source": [
    "# Build a Custom OpenAI Chatbot with ML-Driven Prompt Engineering\n",
    "\n",
    "The code below is designed to run as-is with one exception: **the OpenAI API key must be specified**. Edit the cell below to add your API key between the double quotes.\n",
    "\n",
    "Then, to execute each code cell, click on it and press `Shift` + `Enter` on your keyboard."
   ]
  },
  {
   "cell_type": "code",
   "execution_count": null,
   "id": "cf0ad1e7-6225-4bed-a6ee-2dcd3b4884f3",
   "metadata": {},
   "outputs": [],
   "source": []
  }
 ],
 "metadata": {
  "kernelspec": {
   "display_name": "Python 3 (ipykernel)",
   "language": "python",
   "name": "python3"
  },
  "language_info": {
   "codemirror_mode": {
    "name": "ipython",
    "version": 3
   },
   "file_extension": ".py",
   "mimetype": "text/x-python",
   "name": "python",
   "nbconvert_exporter": "python",
   "pygments_lexer": "ipython3",
   "version": "3.8.18"
  }
 },
 "nbformat": 4,
 "nbformat_minor": 5
}
